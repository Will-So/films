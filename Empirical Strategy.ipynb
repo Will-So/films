{
 "cells": [
  {
   "cell_type": "markdown",
   "metadata": {},
   "source": [
    "# Splitting up the test set"
   ]
  },
  {
   "cell_type": "markdown",
   "metadata": {},
   "source": [
    "The training set will have 80% of the sequels and then the test will be 20%. The 400 more movies that wikipedia offers might be a better idea"
   ]
  },
  {
   "cell_type": "markdown",
   "metadata": {},
   "source": [
    "# Model"
   ]
  },
  {
   "cell_type": "markdown",
   "metadata": {},
   "source": [
    "I use OLS with lasso regularization with $\\alpha=0.1$\n",
    "\n",
    "\n",
    "$$Viewership_t = \\beta_0 critic\\_reviews_{t-1} + \\beta_1 audience\\_review_{t-1} + \\beta_2 budget_t + \\beta_3 budget_{t-1} + \\beta_4 Viewership + \\beta_5 meta\\_data + \\beta_6 time_\\_since\\_previous\\_release + \\gamma \\; month $$\n",
    "\n",
    "We also have the second stage of our model that looks something like this:\n",
    "\n",
    "$$Movie\\_Value = \\beta_1 Viewship_t + \\beta_2 Produciton\\_Cost_t$$\n",
    "\n",
    "$$ Production\\_Cost_t = \\beta_1 Production\\_Cost_{t-1} + \\beta_2 years\\_elapsed$$"
   ]
  },
  {
   "cell_type": "markdown",
   "metadata": {},
   "source": [
    "# Stylized Facts"
   ]
  },
  {
   "cell_type": "markdown",
   "metadata": {},
   "source": [
    "1. Single most important factor: beloved by the audience\n",
    "    - 1% increase in rating of the masses associated with a 6% increase of ROI. \n",
    "    - critics unimportant. \n",
    "1. Though Budget does a great job of predicting box office sales, it negatively correlated with ROI. \n",
    "    - A 10% increase in production budget is associated with a 5% decrease in ROI. \n",
    "2. High-cost films are much more unpredictable than than low-cost films\n",
    "3. reviews //(test again) of the original does not predict reviews of the first\n",
    "5. Month of year is unimportant once controlling for the above except for October. "
   ]
  },
  {
   "cell_type": "markdown",
   "metadata": {},
   "source": [
    "# Implications"
   ]
  },
  {
   "cell_type": "markdown",
   "metadata": {},
   "source": [
    "1. Lower risk: Focus on cheaper films\n",
    "    - Less likely to have massively negative ROI.\n",
    "    - Able to produce many cheap films rather than a few expensive films\n",
    "2. Keep it short\n",
    "    - Runtime not associated with ROI.  \n",
    "3. Release the Movie in October\n",
    "    - Unmet demand before the busy months of November/December?\n",
    "4. Do a good job on the sequel\n",
    "    - Sequel "
   ]
  },
  {
   "cell_type": "code",
   "execution_count": 1,
   "metadata": {
    "collapsed": false,
    "scrolled": true
   },
   "outputs": [
    {
     "data": {
      "text/plain": [
       "1"
      ]
     },
     "execution_count": 1,
     "metadata": {},
     "output_type": "execute_result"
    }
   ],
   "source": [
    "1"
   ]
  },
  {
   "cell_type": "code",
   "execution_count": 5,
   "metadata": {
    "collapsed": true
   },
   "outputs": [],
   "source": [
    "import re"
   ]
  },
  {
   "cell_type": "code",
   "execution_count": 7,
   "metadata": {
    "collapsed": true
   },
   "outputs": [],
   "source": [
    "?re.match()"
   ]
  },
  {
   "cell_type": "code",
   "execution_count": null,
   "metadata": {
    "collapsed": true
   },
   "outputs": [],
   "source": []
  }
 ],
 "metadata": {
  "kernelspec": {
   "display_name": "Python 3",
   "language": "python",
   "name": "python3"
  },
  "language_info": {
   "codemirror_mode": {
    "name": "ipython",
    "version": 3
   },
   "file_extension": ".py",
   "mimetype": "text/x-python",
   "name": "python",
   "nbconvert_exporter": "python",
   "pygments_lexer": "ipython3",
   "version": "3.4.3"
  }
 },
 "nbformat": 4,
 "nbformat_minor": 0
}
