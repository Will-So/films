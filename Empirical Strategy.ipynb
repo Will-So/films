{
 "cells": [
  {
   "cell_type": "markdown",
   "metadata": {},
   "source": [
    "# Model"
   ]
  },
  {
   "cell_type": "markdown",
   "metadata": {},
   "source": [
    "\n",
    "$$Viewership_t = \\beta_0 critic\\_reviews_{t-1} + \\beta_1 audience\\_review_{t-1} + \\beta_2 budget_t + \\beta_3 budget_{t-1} + \\beta_4 Viewership + \\beta_5 meta\\_data $$\n",
    "\n",
    "We also have the second stage of our model that looks something like this:\n",
    "\n",
    "$$Movie\\_Value = \\beta_1 Viewship_t + \\beta_2 Produciton\\_Cost_t$$\n",
    "\n",
    "$$ Production\\_Cost_t = \\beta_1 Production\\_Cost_{t-1} + \\beta_2 years\\_elapsed$$"
   ]
  },
  {
   "cell_type": "code",
   "execution_count": null,
   "metadata": {
    "collapsed": true
   },
   "outputs": [],
   "source": []
  }
 ],
 "metadata": {
  "kernelspec": {
   "display_name": "Python 3",
   "language": "python",
   "name": "python3"
  },
  "language_info": {
   "codemirror_mode": {
    "name": "ipython",
    "version": 3
   },
   "file_extension": ".py",
   "mimetype": "text/x-python",
   "name": "python",
   "nbconvert_exporter": "python",
   "pygments_lexer": "ipython3",
   "version": "3.4.3"
  }
 },
 "nbformat": 4,
 "nbformat_minor": 0
}
