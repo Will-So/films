{
 "cells": [
  {
   "cell_type": "code",
   "execution_count": 2,
   "metadata": {
    "collapsed": false
   },
   "outputs": [
    {
     "name": "stdout",
     "output_type": "stream",
     "text": [
      "Populating the interactive namespace from numpy and matplotlib\n"
     ]
    }
   ],
   "source": [
    "%pylab inline\n",
    "import pandas as pd\n",
    "import seaborn as sns"
   ]
  },
  {
   "cell_type": "code",
   "execution_count": 1,
   "metadata": {
    "collapsed": false,
    "scrolled": true
   },
   "outputs": [
    {
     "name": "stdout",
     "output_type": "stream",
     "text": [
      "all_budgets.csv\r\n",
      "movies_with_sequels.csv\r\n",
      "sequels_sorted.csv\r\n"
     ]
    }
   ],
   "source": [
    "!ls | grep csv"
   ]
  },
  {
   "cell_type": "code",
   "execution_count": 38,
   "metadata": {
    "collapsed": false
   },
   "outputs": [],
   "source": [
    "df = pd.read_csv('all_budgets.csv', encoding='latin-1')"
   ]
  },
  {
   "cell_type": "code",
   "execution_count": 39,
   "metadata": {
    "collapsed": false
   },
   "outputs": [],
   "source": [
    "df = df.drop('index', axis=1)"
   ]
  },
  {
   "cell_type": "code",
   "execution_count": 40,
   "metadata": {
    "collapsed": false
   },
   "outputs": [
    {
     "data": {
      "text/html": [
       "<div>\n",
       "<table border=\"1\" class=\"dataframe\">\n",
       "  <thead>\n",
       "    <tr style=\"text-align: right;\">\n",
       "      <th></th>\n",
       "      <th>Release Date</th>\n",
       "      <th>Movie</th>\n",
       "      <th>Production Budget</th>\n",
       "      <th>Domestic Gross</th>\n",
       "      <th>Worldwide Gross</th>\n",
       "    </tr>\n",
       "  </thead>\n",
       "  <tbody>\n",
       "    <tr>\n",
       "      <th>0</th>\n",
       "      <td>12/18/09</td>\n",
       "      <td>Avatar</td>\n",
       "      <td>$425,000,000</td>\n",
       "      <td>$760,507,625</td>\n",
       "      <td>$2,783,918,982</td>\n",
       "    </tr>\n",
       "    <tr>\n",
       "      <th>1</th>\n",
       "      <td>5/24/07</td>\n",
       "      <td>Pirates of the Caribbean: At World's End</td>\n",
       "      <td>$300,000,000</td>\n",
       "      <td>$309,420,425</td>\n",
       "      <td>$963,420,425</td>\n",
       "    </tr>\n",
       "    <tr>\n",
       "      <th>2</th>\n",
       "      <td>7/20/12</td>\n",
       "      <td>The Dark Knight Rises</td>\n",
       "      <td>$275,000,000</td>\n",
       "      <td>$448,139,099</td>\n",
       "      <td>$1,084,439,099</td>\n",
       "    </tr>\n",
       "    <tr>\n",
       "      <th>3</th>\n",
       "      <td>7/2/13</td>\n",
       "      <td>The Lone Ranger</td>\n",
       "      <td>$275,000,000</td>\n",
       "      <td>$89,289,910</td>\n",
       "      <td>$259,989,910</td>\n",
       "    </tr>\n",
       "    <tr>\n",
       "      <th>4</th>\n",
       "      <td>3/9/12</td>\n",
       "      <td>John Carter</td>\n",
       "      <td>$275,000,000</td>\n",
       "      <td>$73,058,679</td>\n",
       "      <td>$282,778,100</td>\n",
       "    </tr>\n",
       "  </tbody>\n",
       "</table>\n",
       "</div>"
      ],
      "text/plain": [
       "  Release Date                                     Movie Production Budget  \\\n",
       "0     12/18/09                                    Avatar      $425,000,000   \n",
       "1      5/24/07  Pirates of the Caribbean: At World's End      $300,000,000   \n",
       "2      7/20/12                     The Dark Knight Rises      $275,000,000   \n",
       "3       7/2/13                           The Lone Ranger      $275,000,000   \n",
       "4       3/9/12                               John Carter      $275,000,000   \n",
       "\n",
       "  Domestic Gross Worldwide Gross  \n",
       "0   $760,507,625  $2,783,918,982  \n",
       "1   $309,420,425    $963,420,425  \n",
       "2   $448,139,099  $1,084,439,099  \n",
       "3    $89,289,910    $259,989,910  \n",
       "4    $73,058,679    $282,778,100  "
      ]
     },
     "execution_count": 40,
     "metadata": {},
     "output_type": "execute_result"
    }
   ],
   "source": [
    "df.head()"
   ]
  },
  {
   "cell_type": "code",
   "execution_count": 41,
   "metadata": {
    "collapsed": true
   },
   "outputs": [],
   "source": [
    "df.columns = ['release_date', 'movie', 'pbg', 'domestic_gross', 'ww_gross']"
   ]
  },
  {
   "cell_type": "code",
   "execution_count": 42,
   "metadata": {
    "collapsed": false
   },
   "outputs": [
    {
     "data": {
      "text/html": [
       "<div>\n",
       "<table border=\"1\" class=\"dataframe\">\n",
       "  <thead>\n",
       "    <tr style=\"text-align: right;\">\n",
       "      <th></th>\n",
       "      <th>release_date</th>\n",
       "      <th>movie</th>\n",
       "      <th>pbg</th>\n",
       "      <th>domestic_gross</th>\n",
       "      <th>ww_gross</th>\n",
       "    </tr>\n",
       "  </thead>\n",
       "  <tbody>\n",
       "    <tr>\n",
       "      <th>0</th>\n",
       "      <td>12/18/09</td>\n",
       "      <td>Avatar</td>\n",
       "      <td>$425,000,000</td>\n",
       "      <td>$760,507,625</td>\n",
       "      <td>$2,783,918,982</td>\n",
       "    </tr>\n",
       "    <tr>\n",
       "      <th>1</th>\n",
       "      <td>5/24/07</td>\n",
       "      <td>Pirates of the Caribbean: At World's End</td>\n",
       "      <td>$300,000,000</td>\n",
       "      <td>$309,420,425</td>\n",
       "      <td>$963,420,425</td>\n",
       "    </tr>\n",
       "    <tr>\n",
       "      <th>2</th>\n",
       "      <td>7/20/12</td>\n",
       "      <td>The Dark Knight Rises</td>\n",
       "      <td>$275,000,000</td>\n",
       "      <td>$448,139,099</td>\n",
       "      <td>$1,084,439,099</td>\n",
       "    </tr>\n",
       "    <tr>\n",
       "      <th>3</th>\n",
       "      <td>7/2/13</td>\n",
       "      <td>The Lone Ranger</td>\n",
       "      <td>$275,000,000</td>\n",
       "      <td>$89,289,910</td>\n",
       "      <td>$259,989,910</td>\n",
       "    </tr>\n",
       "    <tr>\n",
       "      <th>4</th>\n",
       "      <td>3/9/12</td>\n",
       "      <td>John Carter</td>\n",
       "      <td>$275,000,000</td>\n",
       "      <td>$73,058,679</td>\n",
       "      <td>$282,778,100</td>\n",
       "    </tr>\n",
       "  </tbody>\n",
       "</table>\n",
       "</div>"
      ],
      "text/plain": [
       "  release_date                                     movie           pbg  \\\n",
       "0     12/18/09                                    Avatar  $425,000,000   \n",
       "1      5/24/07  Pirates of the Caribbean: At World's End  $300,000,000   \n",
       "2      7/20/12                     The Dark Knight Rises  $275,000,000   \n",
       "3       7/2/13                           The Lone Ranger  $275,000,000   \n",
       "4       3/9/12                               John Carter  $275,000,000   \n",
       "\n",
       "  domestic_gross        ww_gross  \n",
       "0   $760,507,625  $2,783,918,982  \n",
       "1   $309,420,425    $963,420,425  \n",
       "2   $448,139,099  $1,084,439,099  \n",
       "3    $89,289,910    $259,989,910  \n",
       "4    $73,058,679    $282,778,100  "
      ]
     },
     "execution_count": 42,
     "metadata": {},
     "output_type": "execute_result"
    }
   ],
   "source": [
    "df.head()"
   ]
  },
  {
   "cell_type": "code",
   "execution_count": 43,
   "metadata": {
    "collapsed": false
   },
   "outputs": [],
   "source": [
    "df.pbg = df.pbg.str.strip('$')\n",
    "df.pbg = df.pbg.str.replace(',', '')"
   ]
  },
  {
   "cell_type": "code",
   "execution_count": 44,
   "metadata": {
    "collapsed": true
   },
   "outputs": [],
   "source": [
    "df.domestic_gross = df.domestic_gross.str.strip('$')\n",
    "df.domestic_gross = df.domestic_gross.str.replace(',', '')"
   ]
  },
  {
   "cell_type": "code",
   "execution_count": 45,
   "metadata": {
    "collapsed": false
   },
   "outputs": [],
   "source": [
    "df.pbg = df.pbg.astype(float)"
   ]
  },
  {
   "cell_type": "code",
   "execution_count": 47,
   "metadata": {
    "collapsed": true
   },
   "outputs": [],
   "source": [
    "df.domestic_gross = df.domestic_gross.astype(float)"
   ]
  },
  {
   "cell_type": "code",
   "execution_count": 46,
   "metadata": {
    "collapsed": false
   },
   "outputs": [
    {
     "data": {
      "text/plain": [
       "4933"
      ]
     },
     "execution_count": 46,
     "metadata": {},
     "output_type": "execute_result"
    }
   ],
   "source": [
    "len(df)"
   ]
  },
  {
   "cell_type": "code",
   "execution_count": 31,
   "metadata": {
    "collapsed": false
   },
   "outputs": [
    {
     "name": "stdout",
     "output_type": "stream",
     "text": [
      "3923 1751\n"
     ]
    }
   ],
   "source": [
    "print(len(df[df.pbg < 5e7]), len(df[df.pbg < 1e7]))"
   ]
  },
  {
   "cell_type": "code",
   "execution_count": null,
   "metadata": {
    "collapsed": true
   },
   "outputs": [],
   "source": [
    "9,900,000"
   ]
  },
  {
   "cell_type": "code",
   "execution_count": 48,
   "metadata": {
    "collapsed": false,
    "scrolled": true
   },
   "outputs": [],
   "source": [
    "ten_or_less = df[df.pbg < 1e7]"
   ]
  },
  {
   "cell_type": "code",
   "execution_count": 50,
   "metadata": {
    "collapsed": false
   },
   "outputs": [
    {
     "data": {
      "text/plain": [
       "1751"
      ]
     },
     "execution_count": 50,
     "metadata": {},
     "output_type": "execute_result"
    }
   ],
   "source": [
    "len(ten_or_less)"
   ]
  },
  {
   "cell_type": "code",
   "execution_count": 51,
   "metadata": {
    "collapsed": false
   },
   "outputs": [],
   "source": [
    "candidates = ten_or_less[ten_or_less.pbg * 2 < ten_or_less.domestic_gross]"
   ]
  },
  {
   "cell_type": "code",
   "execution_count": 52,
   "metadata": {
    "collapsed": false
   },
   "outputs": [
    {
     "data": {
      "text/plain": [
       "589"
      ]
     },
     "execution_count": 52,
     "metadata": {},
     "output_type": "execute_result"
    }
   ],
   "source": [
    "len(candidates)"
   ]
  },
  {
   "cell_type": "code",
   "execution_count": 59,
   "metadata": {
    "collapsed": true
   },
   "outputs": [],
   "source": [
    "good_candidates = ten_or_less[ten_or_less.pbg * 6 < ten_or_less.domestic_gross]"
   ]
  },
  {
   "cell_type": "code",
   "execution_count": 60,
   "metadata": {
    "collapsed": false
   },
   "outputs": [
    {
     "data": {
      "text/plain": [
       "276"
      ]
     },
     "execution_count": 60,
     "metadata": {},
     "output_type": "execute_result"
    }
   ],
   "source": [
    "len(good_candidates)"
   ]
  },
  {
   "cell_type": "code",
   "execution_count": 63,
   "metadata": {
    "collapsed": false
   },
   "outputs": [
    {
     "data": {
      "text/html": [
       "<div>\n",
       "<table border=\"1\" class=\"dataframe\">\n",
       "  <thead>\n",
       "    <tr style=\"text-align: right;\">\n",
       "      <th></th>\n",
       "      <th>release_date</th>\n",
       "      <th>movie</th>\n",
       "      <th>pbg</th>\n",
       "      <th>domestic_gross</th>\n",
       "      <th>ww_gross</th>\n",
       "    </tr>\n",
       "  </thead>\n",
       "  <tbody>\n",
       "    <tr>\n",
       "      <th>3612</th>\n",
       "      <td>4/19/02</td>\n",
       "      <td>My Big Fat Greek Wedding</td>\n",
       "      <td>5000000</td>\n",
       "      <td>241438208</td>\n",
       "      <td>$374,890,034</td>\n",
       "    </tr>\n",
       "    <tr>\n",
       "      <th>3875</th>\n",
       "      <td>12/15/39</td>\n",
       "      <td>Gone with the Wind</td>\n",
       "      <td>3900000</td>\n",
       "      <td>198680470</td>\n",
       "      <td>$390,525,192</td>\n",
       "    </tr>\n",
       "    <tr>\n",
       "      <th>4344</th>\n",
       "      <td>12/21/37</td>\n",
       "      <td>Snow White and the Seven Dwarfs</td>\n",
       "      <td>1488000</td>\n",
       "      <td>184925485</td>\n",
       "      <td>$184,925,485</td>\n",
       "    </tr>\n",
       "    <tr>\n",
       "      <th>3496</th>\n",
       "      <td>6/16/78</td>\n",
       "      <td>Grease</td>\n",
       "      <td>6000000</td>\n",
       "      <td>181813770</td>\n",
       "      <td>$387,513,770</td>\n",
       "    </tr>\n",
       "    <tr>\n",
       "      <th>3249</th>\n",
       "      <td>9/26/86</td>\n",
       "      <td>Crocodile Dundee</td>\n",
       "      <td>8800000</td>\n",
       "      <td>168134511</td>\n",
       "      <td>$321,534,511</td>\n",
       "    </tr>\n",
       "    <tr>\n",
       "      <th>3274</th>\n",
       "      <td>4/1/65</td>\n",
       "      <td>The Sound of Music</td>\n",
       "      <td>8200000</td>\n",
       "      <td>163214286</td>\n",
       "      <td>$286,214,286</td>\n",
       "    </tr>\n",
       "    <tr>\n",
       "      <th>3585</th>\n",
       "      <td>12/25/73</td>\n",
       "      <td>The Sting</td>\n",
       "      <td>5500000</td>\n",
       "      <td>159616327</td>\n",
       "      <td>$159,616,327</td>\n",
       "    </tr>\n",
       "    <tr>\n",
       "      <th>3382</th>\n",
       "      <td>12/5/07</td>\n",
       "      <td>Juno</td>\n",
       "      <td>7000000</td>\n",
       "      <td>143495265</td>\n",
       "      <td>$231,450,102</td>\n",
       "    </tr>\n",
       "    <tr>\n",
       "      <th>3954</th>\n",
       "      <td>7/28/78</td>\n",
       "      <td>National Lampoon's Animal House</td>\n",
       "      <td>3000000</td>\n",
       "      <td>141600000</td>\n",
       "      <td>$141,600,000</td>\n",
       "    </tr>\n",
       "    <tr>\n",
       "      <th>4866</th>\n",
       "      <td>7/14/99</td>\n",
       "      <td>The Blair Witch Project</td>\n",
       "      <td>60000</td>\n",
       "      <td>140539099</td>\n",
       "      <td>$248,300,000</td>\n",
       "    </tr>\n",
       "    <tr>\n",
       "      <th>4378</th>\n",
       "      <td>9/26/75</td>\n",
       "      <td>The Rocky Horror Picture Show</td>\n",
       "      <td>1200000</td>\n",
       "      <td>139876417</td>\n",
       "      <td>$139,876,417</td>\n",
       "    </tr>\n",
       "    <tr>\n",
       "      <th>3383</th>\n",
       "      <td>3/15/72</td>\n",
       "      <td>The Godfather</td>\n",
       "      <td>7000000</td>\n",
       "      <td>134821952</td>\n",
       "      <td>$268,355,541</td>\n",
       "    </tr>\n",
       "    <tr>\n",
       "      <th>3497</th>\n",
       "      <td>12/19/86</td>\n",
       "      <td>Platoon</td>\n",
       "      <td>6000000</td>\n",
       "      <td>132761962</td>\n",
       "      <td>$132,761,962</td>\n",
       "    </tr>\n",
       "    <tr>\n",
       "      <th>4070</th>\n",
       "      <td>1/1/74</td>\n",
       "      <td>Blazing Saddles</td>\n",
       "      <td>2600000</td>\n",
       "      <td>119500000</td>\n",
       "      <td>$119,500,000</td>\n",
       "    </tr>\n",
       "    <tr>\n",
       "      <th>3498</th>\n",
       "      <td>6/23/04</td>\n",
       "      <td>Fahrenheit 9/11</td>\n",
       "      <td>6000000</td>\n",
       "      <td>119114517</td>\n",
       "      <td>$221,148,959</td>\n",
       "    </tr>\n",
       "    <tr>\n",
       "      <th>4425</th>\n",
       "      <td>11/21/76</td>\n",
       "      <td>Rocky</td>\n",
       "      <td>1000000</td>\n",
       "      <td>117235147</td>\n",
       "      <td>$225,000,000</td>\n",
       "    </tr>\n",
       "    <tr>\n",
       "      <th>4562</th>\n",
       "      <td>8/11/73</td>\n",
       "      <td>American Graffiti</td>\n",
       "      <td>777000</td>\n",
       "      <td>115000000</td>\n",
       "      <td>$140,000,000</td>\n",
       "    </tr>\n",
       "    <tr>\n",
       "      <th>3384</th>\n",
       "      <td>6/29/12</td>\n",
       "      <td>Magic Mike</td>\n",
       "      <td>7000000</td>\n",
       "      <td>113721571</td>\n",
       "      <td>$170,549,753</td>\n",
       "    </tr>\n",
       "    <tr>\n",
       "      <th>3779</th>\n",
       "      <td>11/19/75</td>\n",
       "      <td>One Flew Over the Cuckoo's Nest</td>\n",
       "      <td>4400000</td>\n",
       "      <td>108981275</td>\n",
       "      <td>$108,981,275</td>\n",
       "    </tr>\n",
       "    <tr>\n",
       "      <th>4671</th>\n",
       "      <td>9/25/09</td>\n",
       "      <td>Paranormal Activity</td>\n",
       "      <td>450000</td>\n",
       "      <td>107918810</td>\n",
       "      <td>$194,183,034</td>\n",
       "    </tr>\n",
       "    <tr>\n",
       "      <th>3276</th>\n",
       "      <td>10/14/94</td>\n",
       "      <td>Pulp Fiction</td>\n",
       "      <td>8000000</td>\n",
       "      <td>107886108</td>\n",
       "      <td>$212,886,108</td>\n",
       "    </tr>\n",
       "    <tr>\n",
       "      <th>3794</th>\n",
       "      <td>3/19/82</td>\n",
       "      <td>Porky's</td>\n",
       "      <td>4000000</td>\n",
       "      <td>105124546</td>\n",
       "      <td>$105,124,546</td>\n",
       "    </tr>\n",
       "    <tr>\n",
       "      <th>3613</th>\n",
       "      <td>10/21/11</td>\n",
       "      <td>Paranormal Activity 3</td>\n",
       "      <td>5000000</td>\n",
       "      <td>104028807</td>\n",
       "      <td>$202,053,386</td>\n",
       "    </tr>\n",
       "    <tr>\n",
       "      <th>3351</th>\n",
       "      <td>12/13/89</td>\n",
       "      <td>Driving Miss Daisy</td>\n",
       "      <td>7500000</td>\n",
       "      <td>102647257</td>\n",
       "      <td>$102,647,257</td>\n",
       "    </tr>\n",
       "    <tr>\n",
       "      <th>3499</th>\n",
       "      <td>10/24/69</td>\n",
       "      <td>Butch Cassidy and the Sundance Kid</td>\n",
       "      <td>6000000</td>\n",
       "      <td>102308900</td>\n",
       "      <td>$102,308,900</td>\n",
       "    </tr>\n",
       "    <tr>\n",
       "      <th>3500</th>\n",
       "      <td>8/26/64</td>\n",
       "      <td>Mary Poppins</td>\n",
       "      <td>6000000</td>\n",
       "      <td>102300000</td>\n",
       "      <td>$102,300,000</td>\n",
       "    </tr>\n",
       "    <tr>\n",
       "      <th>3277</th>\n",
       "      <td>6/22/84</td>\n",
       "      <td>The Karate Kid</td>\n",
       "      <td>8000000</td>\n",
       "      <td>90815558</td>\n",
       "      <td>$90,815,558</td>\n",
       "    </tr>\n",
       "    <tr>\n",
       "      <th>3385</th>\n",
       "      <td>4/15/83</td>\n",
       "      <td>Flashdance</td>\n",
       "      <td>7000000</td>\n",
       "      <td>90463574</td>\n",
       "      <td>$201,463,574</td>\n",
       "    </tr>\n",
       "    <tr>\n",
       "      <th>3795</th>\n",
       "      <td>2/5/53</td>\n",
       "      <td>Peter Pan</td>\n",
       "      <td>4000000</td>\n",
       "      <td>87400000</td>\n",
       "      <td>$87,400,000</td>\n",
       "    </tr>\n",
       "    <tr>\n",
       "      <th>3614</th>\n",
       "      <td>10/28/05</td>\n",
       "      <td>Saw II</td>\n",
       "      <td>5000000</td>\n",
       "      <td>87025093</td>\n",
       "      <td>$152,925,093</td>\n",
       "    </tr>\n",
       "    <tr>\n",
       "      <th>...</th>\n",
       "      <td>...</td>\n",
       "      <td>...</td>\n",
       "      <td>...</td>\n",
       "      <td>...</td>\n",
       "      <td>...</td>\n",
       "    </tr>\n",
       "    <tr>\n",
       "      <th>4842</th>\n",
       "      <td>10/9/98</td>\n",
       "      <td>The Mighty</td>\n",
       "      <td>100000</td>\n",
       "      <td>2643689</td>\n",
       "      <td>$6,113,025</td>\n",
       "    </tr>\n",
       "    <tr>\n",
       "      <th>4717</th>\n",
       "      <td>3/10/00</td>\n",
       "      <td>God's Army</td>\n",
       "      <td>300000</td>\n",
       "      <td>2628829</td>\n",
       "      <td>$2,643,618</td>\n",
       "    </tr>\n",
       "    <tr>\n",
       "      <th>4713</th>\n",
       "      <td>1/1/34</td>\n",
       "      <td>It Happened One Night</td>\n",
       "      <td>325000</td>\n",
       "      <td>2500000</td>\n",
       "      <td>$2,500,000</td>\n",
       "    </tr>\n",
       "    <tr>\n",
       "      <th>4718</th>\n",
       "      <td>10/17/03</td>\n",
       "      <td>Pieces of April</td>\n",
       "      <td>300000</td>\n",
       "      <td>2498144</td>\n",
       "      <td>$3,540,733</td>\n",
       "    </tr>\n",
       "    <tr>\n",
       "      <th>4786</th>\n",
       "      <td>2/25/11</td>\n",
       "      <td>The Grace Card</td>\n",
       "      <td>200000</td>\n",
       "      <td>2430735</td>\n",
       "      <td>$2,430,735</td>\n",
       "    </tr>\n",
       "    <tr>\n",
       "      <th>4702</th>\n",
       "      <td>4/15/83</td>\n",
       "      <td>The Evil Dead</td>\n",
       "      <td>375000</td>\n",
       "      <td>2400000</td>\n",
       "      <td>$29,400,000</td>\n",
       "    </tr>\n",
       "    <tr>\n",
       "      <th>4871</th>\n",
       "      <td>3/16/01</td>\n",
       "      <td>Gabriela</td>\n",
       "      <td>50000</td>\n",
       "      <td>2335352</td>\n",
       "      <td>$2,335,352</td>\n",
       "    </tr>\n",
       "    <tr>\n",
       "      <th>4744</th>\n",
       "      <td>6/16/95</td>\n",
       "      <td>The Incredibly True Adventure of Two Girls in ...</td>\n",
       "      <td>250000</td>\n",
       "      <td>2210408</td>\n",
       "      <td>$2,477,155</td>\n",
       "    </tr>\n",
       "    <tr>\n",
       "      <th>4922</th>\n",
       "      <td>2/26/93</td>\n",
       "      <td>El Mariachi</td>\n",
       "      <td>7000</td>\n",
       "      <td>2040920</td>\n",
       "      <td>$2,041,928</td>\n",
       "    </tr>\n",
       "    <tr>\n",
       "      <th>4787</th>\n",
       "      <td>2/9/33</td>\n",
       "      <td>She Done Him Wrong</td>\n",
       "      <td>200000</td>\n",
       "      <td>2000000</td>\n",
       "      <td>$2,000,000</td>\n",
       "    </tr>\n",
       "    <tr>\n",
       "      <th>4833</th>\n",
       "      <td>6/15/12</td>\n",
       "      <td>Your Sister's Sister</td>\n",
       "      <td>120000</td>\n",
       "      <td>1597486</td>\n",
       "      <td>$3,090,593</td>\n",
       "    </tr>\n",
       "    <tr>\n",
       "      <th>4880</th>\n",
       "      <td>3/27/15</td>\n",
       "      <td>The Salt of the Earth</td>\n",
       "      <td>44936</td>\n",
       "      <td>1343349</td>\n",
       "      <td>$4,154,211</td>\n",
       "    </tr>\n",
       "    <tr>\n",
       "      <th>4812</th>\n",
       "      <td>7/22/11</td>\n",
       "      <td>Another Earth</td>\n",
       "      <td>175000</td>\n",
       "      <td>1321194</td>\n",
       "      <td>$2,102,779</td>\n",
       "    </tr>\n",
       "    <tr>\n",
       "      <th>4902</th>\n",
       "      <td>8/1/91</td>\n",
       "      <td>Slacker</td>\n",
       "      <td>23000</td>\n",
       "      <td>1227508</td>\n",
       "      <td>$1,227,508</td>\n",
       "    </tr>\n",
       "    <tr>\n",
       "      <th>4914</th>\n",
       "      <td>3/9/01</td>\n",
       "      <td>Dayereh</td>\n",
       "      <td>10000</td>\n",
       "      <td>673780</td>\n",
       "      <td>$673,780</td>\n",
       "    </tr>\n",
       "    <tr>\n",
       "      <th>4864</th>\n",
       "      <td>2/26/99</td>\n",
       "      <td>20 Dates</td>\n",
       "      <td>66000</td>\n",
       "      <td>536767</td>\n",
       "      <td>$598,051</td>\n",
       "    </tr>\n",
       "    <tr>\n",
       "      <th>4923</th>\n",
       "      <td>10/8/04</td>\n",
       "      <td>Primer</td>\n",
       "      <td>7000</td>\n",
       "      <td>424760</td>\n",
       "      <td>$841,926</td>\n",
       "    </tr>\n",
       "    <tr>\n",
       "      <th>4911</th>\n",
       "      <td>4/11/97</td>\n",
       "      <td>Pink Flamingos</td>\n",
       "      <td>12000</td>\n",
       "      <td>413802</td>\n",
       "      <td>$413,802</td>\n",
       "    </tr>\n",
       "    <tr>\n",
       "      <th>4872</th>\n",
       "      <td>11/12/10</td>\n",
       "      <td>Tiny Furniture</td>\n",
       "      <td>50000</td>\n",
       "      <td>391674</td>\n",
       "      <td>$424,149</td>\n",
       "    </tr>\n",
       "    <tr>\n",
       "      <th>4886</th>\n",
       "      <td>7/1/91</td>\n",
       "      <td>The Last Waltz</td>\n",
       "      <td>35000</td>\n",
       "      <td>321952</td>\n",
       "      <td>$321,952</td>\n",
       "    </tr>\n",
       "    <tr>\n",
       "      <th>4883</th>\n",
       "      <td>8/25/00</td>\n",
       "      <td>Smiling Fish and Goat on Fire</td>\n",
       "      <td>40000</td>\n",
       "      <td>277233</td>\n",
       "      <td>$277,233</td>\n",
       "    </tr>\n",
       "    <tr>\n",
       "      <th>4889</th>\n",
       "      <td>7/18/08</td>\n",
       "      <td>The Legend of God's Gun</td>\n",
       "      <td>30000</td>\n",
       "      <td>243768</td>\n",
       "      <td>$243,768</td>\n",
       "    </tr>\n",
       "    <tr>\n",
       "      <th>4898</th>\n",
       "      <td>1/14/00</td>\n",
       "      <td>The Terrorist</td>\n",
       "      <td>25000</td>\n",
       "      <td>195043</td>\n",
       "      <td>$195,043</td>\n",
       "    </tr>\n",
       "    <tr>\n",
       "      <th>4908</th>\n",
       "      <td>6/2/06</td>\n",
       "      <td>The Puffy Chair</td>\n",
       "      <td>15000</td>\n",
       "      <td>194523</td>\n",
       "      <td>$195,254</td>\n",
       "    </tr>\n",
       "    <tr>\n",
       "      <th>4931</th>\n",
       "      <td>8/5/05</td>\n",
       "      <td>My Date With Drew</td>\n",
       "      <td>1100</td>\n",
       "      <td>181041</td>\n",
       "      <td>$181,041</td>\n",
       "    </tr>\n",
       "    <tr>\n",
       "      <th>4915</th>\n",
       "      <td>4/28/06</td>\n",
       "      <td>Clean</td>\n",
       "      <td>10000</td>\n",
       "      <td>138711</td>\n",
       "      <td>$138,711</td>\n",
       "    </tr>\n",
       "    <tr>\n",
       "      <th>4909</th>\n",
       "      <td>4/2/10</td>\n",
       "      <td>Breaking Upwards</td>\n",
       "      <td>15000</td>\n",
       "      <td>115592</td>\n",
       "      <td>$115,592</td>\n",
       "    </tr>\n",
       "    <tr>\n",
       "      <th>4916</th>\n",
       "      <td>7/6/01</td>\n",
       "      <td>Cure</td>\n",
       "      <td>10000</td>\n",
       "      <td>94596</td>\n",
       "      <td>$94,596</td>\n",
       "    </tr>\n",
       "    <tr>\n",
       "      <th>4924</th>\n",
       "      <td>5/26/06</td>\n",
       "      <td>Cavite</td>\n",
       "      <td>7000</td>\n",
       "      <td>70071</td>\n",
       "      <td>$71,644</td>\n",
       "    </tr>\n",
       "    <tr>\n",
       "      <th>4926</th>\n",
       "      <td>4/2/99</td>\n",
       "      <td>Following</td>\n",
       "      <td>6000</td>\n",
       "      <td>44705</td>\n",
       "      <td>$236,718</td>\n",
       "    </tr>\n",
       "  </tbody>\n",
       "</table>\n",
       "<p>276 rows × 5 columns</p>\n",
       "</div>"
      ],
      "text/plain": [
       "     release_date                                              movie      pbg  \\\n",
       "3612      4/19/02                           My Big Fat Greek Wedding  5000000   \n",
       "3875     12/15/39                                 Gone with the Wind  3900000   \n",
       "4344     12/21/37                    Snow White and the Seven Dwarfs  1488000   \n",
       "3496      6/16/78                                             Grease  6000000   \n",
       "3249      9/26/86                                   Crocodile Dundee  8800000   \n",
       "3274       4/1/65                                 The Sound of Music  8200000   \n",
       "3585     12/25/73                                          The Sting  5500000   \n",
       "3382      12/5/07                                               Juno  7000000   \n",
       "3954      7/28/78                    National Lampoon's Animal House  3000000   \n",
       "4866      7/14/99                            The Blair Witch Project    60000   \n",
       "4378      9/26/75                      The Rocky Horror Picture Show  1200000   \n",
       "3383      3/15/72                                      The Godfather  7000000   \n",
       "3497     12/19/86                                            Platoon  6000000   \n",
       "4070       1/1/74                                    Blazing Saddles  2600000   \n",
       "3498      6/23/04                                    Fahrenheit 9/11  6000000   \n",
       "4425     11/21/76                                              Rocky  1000000   \n",
       "4562      8/11/73                                  American Graffiti   777000   \n",
       "3384      6/29/12                                         Magic Mike  7000000   \n",
       "3779     11/19/75                    One Flew Over the Cuckoo's Nest  4400000   \n",
       "4671      9/25/09                                Paranormal Activity   450000   \n",
       "3276     10/14/94                                       Pulp Fiction  8000000   \n",
       "3794      3/19/82                                            Porky's  4000000   \n",
       "3613     10/21/11                              Paranormal Activity 3  5000000   \n",
       "3351     12/13/89                                 Driving Miss Daisy  7500000   \n",
       "3499     10/24/69                 Butch Cassidy and the Sundance Kid  6000000   \n",
       "3500      8/26/64                                       Mary Poppins  6000000   \n",
       "3277      6/22/84                                     The Karate Kid  8000000   \n",
       "3385      4/15/83                                         Flashdance  7000000   \n",
       "3795       2/5/53                                          Peter Pan  4000000   \n",
       "3614     10/28/05                                             Saw II  5000000   \n",
       "...           ...                                                ...      ...   \n",
       "4842      10/9/98                                         The Mighty   100000   \n",
       "4717      3/10/00                                         God's Army   300000   \n",
       "4713       1/1/34                              It Happened One Night   325000   \n",
       "4718     10/17/03                                    Pieces of April   300000   \n",
       "4786      2/25/11                                     The Grace Card   200000   \n",
       "4702      4/15/83                                      The Evil Dead   375000   \n",
       "4871      3/16/01                                           Gabriela    50000   \n",
       "4744      6/16/95  The Incredibly True Adventure of Two Girls in ...   250000   \n",
       "4922      2/26/93                                        El Mariachi     7000   \n",
       "4787       2/9/33                                 She Done Him Wrong   200000   \n",
       "4833      6/15/12                               Your Sister's Sister   120000   \n",
       "4880      3/27/15                              The Salt of the Earth    44936   \n",
       "4812      7/22/11                                      Another Earth   175000   \n",
       "4902       8/1/91                                            Slacker    23000   \n",
       "4914       3/9/01                                            Dayereh    10000   \n",
       "4864      2/26/99                                           20 Dates    66000   \n",
       "4923      10/8/04                                             Primer     7000   \n",
       "4911      4/11/97                                     Pink Flamingos    12000   \n",
       "4872     11/12/10                                     Tiny Furniture    50000   \n",
       "4886       7/1/91                                     The Last Waltz    35000   \n",
       "4883      8/25/00                      Smiling Fish and Goat on Fire    40000   \n",
       "4889      7/18/08                            The Legend of God's Gun    30000   \n",
       "4898      1/14/00                                      The Terrorist    25000   \n",
       "4908       6/2/06                                    The Puffy Chair    15000   \n",
       "4931       8/5/05                                  My Date With Drew     1100   \n",
       "4915      4/28/06                                              Clean    10000   \n",
       "4909       4/2/10                                   Breaking Upwards    15000   \n",
       "4916       7/6/01                                               Cure    10000   \n",
       "4924      5/26/06                                             Cavite     7000   \n",
       "4926       4/2/99                                          Following     6000   \n",
       "\n",
       "      domestic_gross      ww_gross  \n",
       "3612       241438208  $374,890,034  \n",
       "3875       198680470  $390,525,192  \n",
       "4344       184925485  $184,925,485  \n",
       "3496       181813770  $387,513,770  \n",
       "3249       168134511  $321,534,511  \n",
       "3274       163214286  $286,214,286  \n",
       "3585       159616327  $159,616,327  \n",
       "3382       143495265  $231,450,102  \n",
       "3954       141600000  $141,600,000  \n",
       "4866       140539099  $248,300,000  \n",
       "4378       139876417  $139,876,417  \n",
       "3383       134821952  $268,355,541  \n",
       "3497       132761962  $132,761,962  \n",
       "4070       119500000  $119,500,000  \n",
       "3498       119114517  $221,148,959  \n",
       "4425       117235147  $225,000,000  \n",
       "4562       115000000  $140,000,000  \n",
       "3384       113721571  $170,549,753  \n",
       "3779       108981275  $108,981,275  \n",
       "4671       107918810  $194,183,034  \n",
       "3276       107886108  $212,886,108  \n",
       "3794       105124546  $105,124,546  \n",
       "3613       104028807  $202,053,386  \n",
       "3351       102647257  $102,647,257  \n",
       "3499       102308900  $102,308,900  \n",
       "3500       102300000  $102,300,000  \n",
       "3277        90815558   $90,815,558  \n",
       "3385        90463574  $201,463,574  \n",
       "3795        87400000   $87,400,000  \n",
       "3614        87025093  $152,925,093  \n",
       "...              ...           ...  \n",
       "4842         2643689    $6,113,025  \n",
       "4717         2628829    $2,643,618  \n",
       "4713         2500000    $2,500,000  \n",
       "4718         2498144    $3,540,733  \n",
       "4786         2430735    $2,430,735  \n",
       "4702         2400000   $29,400,000  \n",
       "4871         2335352    $2,335,352  \n",
       "4744         2210408    $2,477,155  \n",
       "4922         2040920    $2,041,928  \n",
       "4787         2000000    $2,000,000  \n",
       "4833         1597486    $3,090,593  \n",
       "4880         1343349    $4,154,211  \n",
       "4812         1321194    $2,102,779  \n",
       "4902         1227508    $1,227,508  \n",
       "4914          673780      $673,780  \n",
       "4864          536767      $598,051  \n",
       "4923          424760      $841,926  \n",
       "4911          413802      $413,802  \n",
       "4872          391674      $424,149  \n",
       "4886          321952      $321,952  \n",
       "4883          277233      $277,233  \n",
       "4889          243768      $243,768  \n",
       "4898          195043      $195,043  \n",
       "4908          194523      $195,254  \n",
       "4931          181041      $181,041  \n",
       "4915          138711      $138,711  \n",
       "4909          115592      $115,592  \n",
       "4916           94596       $94,596  \n",
       "4924           70071       $71,644  \n",
       "4926           44705      $236,718  \n",
       "\n",
       "[276 rows x 5 columns]"
      ]
     },
     "execution_count": 63,
     "metadata": {},
     "output_type": "execute_result"
    }
   ],
   "source": [
    "good_candidates.sort(columns='domestic_gross', ascending=False)"
   ]
  },
  {
   "cell_type": "code",
   "execution_count": 12,
   "metadata": {
    "collapsed": false,
    "scrolled": true
   },
   "outputs": [
    {
     "ename": "TypeError",
     "evalue": "unorderable types: str() < float()",
     "output_type": "error",
     "traceback": [
      "\u001b[0;31m---------------------------------------------------------------------------\u001b[0m",
      "\u001b[0;31mTypeError\u001b[0m                                 Traceback (most recent call last)",
      "\u001b[0;32m<ipython-input-12-ae3e8cf3a6bf>\u001b[0m in \u001b[0;36m<module>\u001b[0;34m()\u001b[0m\n\u001b[0;32m----> 1\u001b[0;31m \u001b[0mdf\u001b[0m\u001b[0;34m[\u001b[0m\u001b[0mdf\u001b[0m\u001b[0;34m.\u001b[0m\u001b[0mpbg\u001b[0m \u001b[0;34m<\u001b[0m \u001b[0;36m40e7\u001b[0m\u001b[0;34m]\u001b[0m\u001b[0;34m\u001b[0m\u001b[0m\n\u001b[0m",
      "\u001b[0;32m/Users/Will/anaconda/envs/py34/lib/python3.4/site-packages/pandas/core/ops.py\u001b[0m in \u001b[0;36mwrapper\u001b[0;34m(self, other, axis)\u001b[0m\n\u001b[1;32m    612\u001b[0m \u001b[0;34m\u001b[0m\u001b[0m\n\u001b[1;32m    613\u001b[0m             \u001b[0;31m# scalars\u001b[0m\u001b[0;34m\u001b[0m\u001b[0;34m\u001b[0m\u001b[0m\n\u001b[0;32m--> 614\u001b[0;31m             \u001b[0mres\u001b[0m \u001b[0;34m=\u001b[0m \u001b[0mna_op\u001b[0m\u001b[0;34m(\u001b[0m\u001b[0mvalues\u001b[0m\u001b[0;34m,\u001b[0m \u001b[0mother\u001b[0m\u001b[0;34m)\u001b[0m\u001b[0;34m\u001b[0m\u001b[0m\n\u001b[0m\u001b[1;32m    615\u001b[0m             \u001b[0;32mif\u001b[0m \u001b[0mnp\u001b[0m\u001b[0;34m.\u001b[0m\u001b[0misscalar\u001b[0m\u001b[0;34m(\u001b[0m\u001b[0mres\u001b[0m\u001b[0;34m)\u001b[0m\u001b[0;34m:\u001b[0m\u001b[0;34m\u001b[0m\u001b[0m\n\u001b[1;32m    616\u001b[0m                 raise TypeError('Could not compare %s type with Series'\n",
      "\u001b[0;32m/Users/Will/anaconda/envs/py34/lib/python3.4/site-packages/pandas/core/ops.py\u001b[0m in \u001b[0;36mna_op\u001b[0;34m(x, y)\u001b[0m\n\u001b[1;32m    560\u001b[0m                     \u001b[0mresult\u001b[0m \u001b[0;34m=\u001b[0m \u001b[0mlib\u001b[0m\u001b[0;34m.\u001b[0m\u001b[0mvec_compare\u001b[0m\u001b[0;34m(\u001b[0m\u001b[0mx\u001b[0m\u001b[0;34m,\u001b[0m \u001b[0my\u001b[0m\u001b[0;34m,\u001b[0m \u001b[0mop\u001b[0m\u001b[0;34m)\u001b[0m\u001b[0;34m\u001b[0m\u001b[0m\n\u001b[1;32m    561\u001b[0m             \u001b[0;32melse\u001b[0m\u001b[0;34m:\u001b[0m\u001b[0;34m\u001b[0m\u001b[0m\n\u001b[0;32m--> 562\u001b[0;31m                 \u001b[0mresult\u001b[0m \u001b[0;34m=\u001b[0m \u001b[0mlib\u001b[0m\u001b[0;34m.\u001b[0m\u001b[0mscalar_compare\u001b[0m\u001b[0;34m(\u001b[0m\u001b[0mx\u001b[0m\u001b[0;34m,\u001b[0m \u001b[0my\u001b[0m\u001b[0;34m,\u001b[0m \u001b[0mop\u001b[0m\u001b[0;34m)\u001b[0m\u001b[0;34m\u001b[0m\u001b[0m\n\u001b[0m\u001b[1;32m    563\u001b[0m         \u001b[0;32melse\u001b[0m\u001b[0;34m:\u001b[0m\u001b[0;34m\u001b[0m\u001b[0m\n\u001b[1;32m    564\u001b[0m \u001b[0;34m\u001b[0m\u001b[0m\n",
      "\u001b[0;32mpandas/lib.pyx\u001b[0m in \u001b[0;36mpandas.lib.scalar_compare (pandas/lib.c:12553)\u001b[0;34m()\u001b[0m\n",
      "\u001b[0;31mTypeError\u001b[0m: unorderable types: str() < float()"
     ]
    }
   ],
   "source": [
    "df[df.pbg < 40e7]"
   ]
  },
  {
   "cell_type": "code",
   "execution_count": null,
   "metadata": {
    "collapsed": true
   },
   "outputs": [],
   "source": []
  }
 ],
 "metadata": {
  "kernelspec": {
   "display_name": "Python 3",
   "language": "python",
   "name": "python3"
  },
  "language_info": {
   "codemirror_mode": {
    "name": "ipython",
    "version": 3
   },
   "file_extension": ".py",
   "mimetype": "text/x-python",
   "name": "python",
   "nbconvert_exporter": "python",
   "pygments_lexer": "ipython3",
   "version": "3.4.3"
  }
 },
 "nbformat": 4,
 "nbformat_minor": 0
}
