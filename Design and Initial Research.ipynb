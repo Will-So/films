{
 "cells": [
  {
   "cell_type": "markdown",
   "metadata": {},
   "source": [
    "# Maximizing ROI under 10MM"
   ]
  },
  {
   "cell_type": "markdown",
   "metadata": {},
   "source": [
    "## Background"
   ]
  },
  {
   "cell_type": "markdown",
   "metadata": {},
   "source": [
    "An internet streaming company is interested in buying the rights for movies in order to make sequels (or remakes) of them in order to increase the number of subscribers to their service.\n",
    "\n",
    "They are interested equally in good reviews by critics and the audience as well as the amount of subscribers who watch the film. They don't want to spend more than 50MM producing each film and are better at containing costs than other films. \n",
    "\n",
    "They wish make 2-3 sequels/remakes every year from now on. Making these movies should be proftitable for the firm. "
   ]
  },
  {
   "cell_type": "markdown",
   "metadata": {},
   "source": [
    "## Description and characteristics."
   ]
  },
  {
   "cell_type": "markdown",
   "metadata": {},
   "source": [
    "- I will use Production costs and Box office revenues from the original movie.\n",
    "- I will further use ratings from MovieLens from the original movie.\n",
    "- I may also use the actual text of critic reviews from the original movie\n",
    "- Other metadata (e.g., actors, movie length, genre)"
   ]
  },
  {
   "cell_type": "markdown",
   "metadata": {},
   "source": [
    "## The deliverables"
   ]
  },
  {
   "cell_type": "markdown",
   "metadata": {},
   "source": [
    "### Short Term"
   ]
  },
  {
   "cell_type": "markdown",
   "metadata": {},
   "source": [
    "A list of the films that are most likely to have good sequels. This will be presented in the form of a PDF and presentation. "
   ]
  },
  {
   "cell_type": "markdown",
   "metadata": {},
   "source": [
    "### Long Term"
   ]
  },
  {
   "cell_type": "markdown",
   "metadata": {},
   "source": [
    "For an additional monthly fee, we will provide a tool that allows the internet  company to check if it is likely to be worthwhile to make a sequel based off of a movie. The tool will be updated with new data twice annually."
   ]
  },
  {
   "cell_type": "markdown",
   "metadata": {},
   "source": [
    "## Old Background"
   ]
  },
  {
   "cell_type": "markdown",
   "metadata": {},
   "source": [
    "A new investor who recently made a small fortune from tech is interested in funding new films in order to make a name in the film industry. To this end, he wants to pick films that are the most likely to \n",
    "\n",
    "I have 10-100MM. How do I invest this in the movie industry while maximizing returns given a certain level of Risk tolerance. "
   ]
  },
  {
   "cell_type": "markdown",
   "metadata": {},
   "source": [
    "## Machine Learning Technique"
   ]
  },
  {
   "cell_type": "markdown",
   "metadata": {},
   "source": [
    "- Training validation test. Don;t use years but rather "
   ]
  },
  {
   "cell_type": "markdown",
   "metadata": {},
   "source": [
    "## Novel Data Sources"
   ]
  },
  {
   "cell_type": "markdown",
   "metadata": {},
   "source": [
    "- The script or perhaps some social media results\n",
    "- Look at the 538 thing\n",
    "- "
   ]
  },
  {
   "cell_type": "markdown",
   "metadata": {},
   "source": [
    "# Other Ideas"
   ]
  },
  {
   "cell_type": "markdown",
   "metadata": {},
   "source": [
    "- Predict whether a sequel will be successful in the future\n",
    "- Which movie stars are worth their high worth of pay\n",
    "- Value Above replacement\n",
    "- Movies and the Economy\n",
    "- Populatiry of the songs on the sound track\n",
    "- Dialog test\n",
    "- trends in movie genres\n",
    "- Role of scripts in the thing. "
   ]
  },
  {
   "cell_type": "markdown",
   "metadata": {},
   "source": [
    "# Value Above Replacement"
   ]
  },
  {
   "cell_type": "markdown",
   "metadata": {},
   "source": [
    "- Maybe name it Millions Above Replacement\n",
    "- Team = Director and Studio?\n",
    "\n",
    "## Main Problem\n",
    "- THe main problem is that there is no clear team here and no clear metrics for working on teams\n",
    "\n",
    "## How it is calculated in Baseball\n",
    "- $bWAR = (P_{runs} - A_{runs}) + (A_{runs} - R_{runs})$"
   ]
  },
  {
   "cell_type": "markdown",
   "metadata": {},
   "source": [
    "# Info on Movie Futures"
   ]
  },
  {
   "cell_type": "markdown",
   "metadata": {},
   "source": [
    "- DOesn't exist because Congress banned them\n",
    "- PE firms don't go there because it doesn't work well for their profit margins. \n",
    "    - Investing in the studio rather than the film directly is often the better idea.\n",
    "    - Don't have the expertise to pick out winners"
   ]
  },
  {
   "cell_type": "markdown",
   "metadata": {},
   "source": [
    "# Other Possibilities to invest in movies"
   ]
  },
  {
   "cell_type": "markdown",
   "metadata": {},
   "source": [
    "- Seedrs will probably open quite soon. \n",
    "- [how much money does a film need to make to be profitable](http://io9.com/5747305/how-much-money-does-a-movie-need-to-make-to-be-profitable)\n",
    "    - ![](https://www.dropbox.com/s/mt3odlrq3astaxg/18ls6ou2vy8nkjpg.jpg?dl=1)"
   ]
  },
  {
   "cell_type": "markdown",
   "metadata": {},
   "source": [
    "# Profit and Cost structure of the movie industry"
   ]
  },
  {
   "cell_type": "markdown",
   "metadata": {},
   "source": [
    "- Short answer is that a film needs to make twice its production budget globally. \n",
    "- Studio accounting is 'designed to make sure people don't collect on back-end deals'\n",
    "- 967M Box office yet lost 167MM cash. \n",
    "- P&A budget can be between 25-70M \n",
    "- Theatres are now getting a constant cut of the film regardless of what it is. Studios are probably getting like 55% in the U.S. and 40% overseas. There are a lot of expenses involves so 15% is a more realistic value. \n",
    "- Studios get a much better ut of the DVD revenues because retailers aren't as much of a middle man. \n",
    "    - Explains why horror films do well. \n",
    "- t: orange/blue just so happens to be the most common set of complementary colors because blue is “cool” and orange is “enthusiastic” and “energetic.”\n",
    "- Done to justify not paying those who make a percentage of the net profits. \n",
    "- Look at paranormal activity as an example. Make sure that failure equals gross and have one that is good hitting. "
   ]
  },
  {
   "cell_type": "markdown",
   "metadata": {},
   "source": [
    "# Sources"
   ]
  },
  {
   "cell_type": "markdown",
   "metadata": {},
   "source": [
    "- Rotten Tomatoes API\n",
    "- Five Thirty [eight](http://fivethirtyeight.com/datalab/podcast-the-guy-who-predicts-whether-a-movie-will-bomb-months-before-its-made/)\n",
    "- Movie scripts [here](http://www.imsdb.com/genre/Horror)\n",
    "- Forbest [Post](http://www.forbes.com/sites/dorothypomerantz/2014/03/27/moving-beyond-kickstarter-a-new-website-lets-people-actually-invest-in-movies/)\n",
    "    - '''Films have to earn at least double their production budget to even begin to think about making a profit. It’s unlikely any of the investors the Wachowskis cobbled together for the film ever saw a return on investment.'''"
   ]
  },
  {
   "cell_type": "markdown",
   "metadata": {},
   "source": [
    "# Decisions that people need to make"
   ]
  },
  {
   "cell_type": "markdown",
   "metadata": {},
   "source": [
    "- How much advertising to include\n",
    "- Where to put money to minimize the chances of losses\n",
    "- Should we make a sequel? Will a sequel be successful?\n",
    "    - Internet "
   ]
  },
  {
   "cell_type": "markdown",
   "metadata": {},
   "source": [
    "# Papers"
   ]
  },
  {
   "cell_type": "markdown",
   "metadata": {},
   "source": [
    "- [Google Scholar Citation Tree](https://scholar.google.com/scholar?cites=8093887285890216896&as_sdt=5,33&sciodt=0,33&hl=en)\n",
    "- [What Determines Box Office success](http://swer.wtamu.edu/sites/default/files/Data/137-148-89-338-1-PB.pdf)\n",
    "    - Critic reviews are the most important as are award nominations, budget, and release exposure. \n",
    "    - 10 percent increase in critical approval garners an extra 7 million dollars at the box office. Nomination = 6MM Sequels == 18MM. R-Rated -12MM\n",
    "    - Movie industry 8B annually. \n",
    "- [Paper on text from the critics reviews](http://citeseerx.ist.psu.edu/viewdoc/download?doi=10.1.1.374.2165&rep=rep1&type=pdf). THey use text from critic reviews. "
   ]
  },
  {
   "cell_type": "markdown",
   "metadata": {},
   "source": [
    "# The Economics of Netflix"
   ]
  },
  {
   "cell_type": "markdown",
   "metadata": {},
   "source": [
    "- http://www.thewire.com/technology/2013/02/economics-netflixs-100-million-new-show/61692/"
   ]
  },
  {
   "cell_type": "markdown",
   "metadata": {},
   "source": []
  }
 ],
 "metadata": {
  "kernelspec": {
   "display_name": "Python 2",
   "language": "python",
   "name": "python2"
  },
  "language_info": {
   "codemirror_mode": {
    "name": "ipython",
    "version": 2
   },
   "file_extension": ".py",
   "mimetype": "text/x-python",
   "name": "python",
   "nbconvert_exporter": "python",
   "pygments_lexer": "ipython2",
   "version": "2.7.10"
  }
 },
 "nbformat": 4,
 "nbformat_minor": 0
}
